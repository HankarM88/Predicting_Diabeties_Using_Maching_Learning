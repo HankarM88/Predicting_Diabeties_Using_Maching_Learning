{
 "cells": [
  {
   "cell_type": "markdown",
   "metadata": {},
   "source": [
    "## Predicting Diabetes with Tensorflow"
   ]
  },
  {
   "cell_type": "markdown",
   "metadata": {},
   "source": [
    "### Imports "
   ]
  },
  {
   "cell_type": "code",
   "execution_count": 1,
   "metadata": {},
   "outputs": [],
   "source": [
    "import tensorflow as tf \n",
    "import pandas as pd \n",
    "import numpy as np \n",
    "import matplotlib.pyplot as plt \n",
    "from sklearn.model_selection import train_test_split"
   ]
  },
  {
   "cell_type": "markdown",
   "metadata": {},
   "source": [
    "### Get Data "
   ]
  },
  {
   "cell_type": "code",
   "execution_count": 2,
   "metadata": {},
   "outputs": [
    {
     "data": {
      "text/html": [
       "<div>\n",
       "<style scoped>\n",
       "    .dataframe tbody tr th:only-of-type {\n",
       "        vertical-align: middle;\n",
       "    }\n",
       "\n",
       "    .dataframe tbody tr th {\n",
       "        vertical-align: top;\n",
       "    }\n",
       "\n",
       "    .dataframe thead th {\n",
       "        text-align: right;\n",
       "    }\n",
       "</style>\n",
       "<table border=\"1\" class=\"dataframe\">\n",
       "  <thead>\n",
       "    <tr style=\"text-align: right;\">\n",
       "      <th></th>\n",
       "      <th>Pregnancies</th>\n",
       "      <th>Glucose</th>\n",
       "      <th>BloodPressure</th>\n",
       "      <th>SkinThickness</th>\n",
       "      <th>Insulin</th>\n",
       "      <th>BMI</th>\n",
       "      <th>DiabetesPedigreeFunction</th>\n",
       "      <th>Age</th>\n",
       "      <th>Outcome</th>\n",
       "    </tr>\n",
       "  </thead>\n",
       "  <tbody>\n",
       "    <tr>\n",
       "      <th>0</th>\n",
       "      <td>6</td>\n",
       "      <td>148</td>\n",
       "      <td>72</td>\n",
       "      <td>35</td>\n",
       "      <td>0</td>\n",
       "      <td>33.6</td>\n",
       "      <td>0.627</td>\n",
       "      <td>50</td>\n",
       "      <td>1</td>\n",
       "    </tr>\n",
       "    <tr>\n",
       "      <th>1</th>\n",
       "      <td>1</td>\n",
       "      <td>85</td>\n",
       "      <td>66</td>\n",
       "      <td>29</td>\n",
       "      <td>0</td>\n",
       "      <td>26.6</td>\n",
       "      <td>0.351</td>\n",
       "      <td>31</td>\n",
       "      <td>0</td>\n",
       "    </tr>\n",
       "    <tr>\n",
       "      <th>2</th>\n",
       "      <td>8</td>\n",
       "      <td>183</td>\n",
       "      <td>64</td>\n",
       "      <td>0</td>\n",
       "      <td>0</td>\n",
       "      <td>23.3</td>\n",
       "      <td>0.672</td>\n",
       "      <td>32</td>\n",
       "      <td>1</td>\n",
       "    </tr>\n",
       "    <tr>\n",
       "      <th>3</th>\n",
       "      <td>1</td>\n",
       "      <td>89</td>\n",
       "      <td>66</td>\n",
       "      <td>23</td>\n",
       "      <td>94</td>\n",
       "      <td>28.1</td>\n",
       "      <td>0.167</td>\n",
       "      <td>21</td>\n",
       "      <td>0</td>\n",
       "    </tr>\n",
       "    <tr>\n",
       "      <th>4</th>\n",
       "      <td>0</td>\n",
       "      <td>137</td>\n",
       "      <td>40</td>\n",
       "      <td>35</td>\n",
       "      <td>168</td>\n",
       "      <td>43.1</td>\n",
       "      <td>2.288</td>\n",
       "      <td>33</td>\n",
       "      <td>1</td>\n",
       "    </tr>\n",
       "  </tbody>\n",
       "</table>\n",
       "</div>"
      ],
      "text/plain": [
       "   Pregnancies  Glucose  BloodPressure  SkinThickness  Insulin   BMI  \\\n",
       "0            6      148             72             35        0  33.6   \n",
       "1            1       85             66             29        0  26.6   \n",
       "2            8      183             64              0        0  23.3   \n",
       "3            1       89             66             23       94  28.1   \n",
       "4            0      137             40             35      168  43.1   \n",
       "\n",
       "   DiabetesPedigreeFunction  Age  Outcome  \n",
       "0                     0.627   50        1  \n",
       "1                     0.351   31        0  \n",
       "2                     0.672   32        1  \n",
       "3                     0.167   21        0  \n",
       "4                     2.288   33        1  "
      ]
     },
     "execution_count": 2,
     "metadata": {},
     "output_type": "execute_result"
    }
   ],
   "source": [
    "data=pd.read_csv('data/diabetes.csv')\n",
    "data.head()"
   ]
  },
  {
   "cell_type": "code",
   "execution_count": 4,
   "metadata": {},
   "outputs": [
    {
     "name": "stdout",
     "output_type": "stream",
     "text": [
      "Grouping by The number of individuals in each class:\n",
      " 0    500\n",
      "1    268\n",
      "Name: Outcome, dtype: int64\n"
     ]
    }
   ],
   "source": [
    "print(\"Grouping by The number of individuals in each class:\\n\",data.Outcome.value_counts())"
   ]
  },
  {
   "cell_type": "markdown",
   "metadata": {},
   "source": [
    "### Split Data into Train and  Test Sets "
   ]
  },
  {
   "cell_type": "code",
   "execution_count": 14,
   "metadata": {},
   "outputs": [],
   "source": [
    "#train test split \n",
    "df=data.copy()\n",
    "X=df.drop('Outcome',axis=1)\n",
    "y=df.pop('Outcome')\n",
    "X_train, X_test, y_train, y_test = train_test_split(X, y, test_size=0.3, random_state=101)"
   ]
  },
  {
   "cell_type": "code",
   "execution_count": 15,
   "metadata": {},
   "outputs": [
    {
     "data": {
      "text/plain": [
       "((537, 8), (537,), (231, 8), (231,))"
      ]
     },
     "execution_count": 15,
     "metadata": {},
     "output_type": "execute_result"
    }
   ],
   "source": [
    "X_train.shape,y_train.shape,X_test.shape,y_test.shape"
   ]
  },
  {
   "cell_type": "markdown",
   "metadata": {},
   "source": [
    "### Scaling Data "
   ]
  },
  {
   "cell_type": "code",
   "execution_count": 26,
   "metadata": {},
   "outputs": [],
   "source": [
    "# scale data \n",
    "from sklearn.preprocessing import MinMaxScaler\n",
    "scaler=MinMaxScaler()\n",
    "X_train_scaled=scaler.fit_transform(X_train)\n",
    "X_test_scaled=scaler.fit_transform(X_test)\n",
    "# put them into dataframes \n",
    "X_train = pd.DataFrame(data=X_train_scaled ,columns = X_train.columns,index=X_train.index)\n",
    "X_test = pd.DataFrame(data=X_test_scaled ,columns = X_test.columns,index=X_test.index)\n"
   ]
  },
  {
   "cell_type": "markdown",
   "metadata": {},
   "source": [
    "### Prepare the Feature Columns List "
   ]
  },
  {
   "cell_type": "code",
   "execution_count": 22,
   "metadata": {},
   "outputs": [
    {
     "data": {
      "text/plain": [
       "Index(['Pregnancies', 'Glucose', 'BloodPressure', 'SkinThickness', 'Insulin',\n",
       "       'BMI', 'DiabetesPedigreeFunction', 'Age', 'Outcome'],\n",
       "      dtype='object')"
      ]
     },
     "execution_count": 22,
     "metadata": {},
     "output_type": "execute_result"
    }
   ],
   "source": [
    "#show the columns \n",
    "data.keys()"
   ]
  },
  {
   "cell_type": "code",
   "execution_count": 23,
   "metadata": {},
   "outputs": [],
   "source": [
    "#create a list of feature columns \n",
    "num_preg = tf.feature_column.numeric_column('Pregnancies')\n",
    "glucose = tf.feature_column.numeric_column('Glucose')\n",
    "blood_press = tf.feature_column.numeric_column('BloodPressure')\n",
    "skin_thick = tf.feature_column.numeric_column('SkinThickness')\n",
    "insulin = tf.feature_column.numeric_column('Insulin')\n",
    "bmi = tf.feature_column.numeric_column('BMI')\n",
    "diabetes_pedigree = tf.feature_column.numeric_column('DiabetesPedigreeFunction')\n",
    "age = tf.feature_column.numeric_column('Age')\n",
    "\n",
    "# put them on a list \n",
    "feat_cols=[num_preg ,glucose,blood_press ,skin_thick ,insulin,bmi,diabetes_pedigree, age]"
   ]
  },
  {
   "cell_type": "markdown",
   "metadata": {},
   "source": [
    "### Set the Input Function "
   ]
  },
  {
   "cell_type": "code",
   "execution_count": 42,
   "metadata": {},
   "outputs": [],
   "source": [
    "# set the input functon \n",
    "input_func =tf.compat.v1.estimator.inputs.pandas_input_fn(x=X_train,y=y_train ,batch_size=10,num_epochs=None,shuffle=True)"
   ]
  },
  {
   "cell_type": "markdown",
   "metadata": {},
   "source": [
    "### Linear Classifier "
   ]
  },
  {
   "cell_type": "code",
   "execution_count": 43,
   "metadata": {},
   "outputs": [
    {
     "name": "stdout",
     "output_type": "stream",
     "text": [
      "INFO:tensorflow:Using default config.\n",
      "WARNING:tensorflow:Using temporary folder as model directory: C:\\Users\\hp\\AppData\\Local\\Temp\\tmp3wd0egsd\n",
      "INFO:tensorflow:Using config: {'_model_dir': 'C:\\\\Users\\\\hp\\\\AppData\\\\Local\\\\Temp\\\\tmp3wd0egsd', '_tf_random_seed': None, '_save_summary_steps': 100, '_save_checkpoints_steps': None, '_save_checkpoints_secs': 600, '_session_config': allow_soft_placement: true\n",
      "graph_options {\n",
      "  rewrite_options {\n",
      "    meta_optimizer_iterations: ONE\n",
      "  }\n",
      "}\n",
      ", '_keep_checkpoint_max': 5, '_keep_checkpoint_every_n_hours': 10000, '_log_step_count_steps': 100, '_train_distribute': None, '_device_fn': None, '_protocol': None, '_eval_distribute': None, '_experimental_distribute': None, '_experimental_max_worker_delay_secs': None, '_session_creation_timeout_secs': 7200, '_service': None, '_cluster_spec': <tensorflow.python.training.server_lib.ClusterSpec object at 0x000002A7F96E4448>, '_task_type': 'worker', '_task_id': 0, '_global_id_in_cluster': 0, '_master': '', '_evaluation_master': '', '_is_chief': True, '_num_ps_replicas': 0, '_num_worker_replicas': 1}\n"
     ]
    }
   ],
   "source": [
    "# create the model \n",
    "model = tf.estimator.LinearClassifier(feature_columns=feat_cols)"
   ]
  },
  {
   "cell_type": "code",
   "execution_count": 44,
   "metadata": {},
   "outputs": [
    {
     "name": "stdout",
     "output_type": "stream",
     "text": [
      "INFO:tensorflow:Calling model_fn.\n",
      "WARNING:tensorflow:Layer linear/linear_model is casting an input tensor from dtype float64 to the layer's dtype of float32, which is new behavior in TensorFlow 2.  The layer has dtype float32 because it's dtype defaults to floatx.\n",
      "\n",
      "If you intended to run this layer in float32, you can safely ignore this warning. If in doubt, this warning is likely only an issue if you are porting a TensorFlow 1.X model to TensorFlow 2.\n",
      "\n",
      "To change all layers to have dtype float64 by default, call `tf.keras.backend.set_floatx('float64')`. To change just this layer, pass dtype='float64' to the layer constructor. If you are the author of this layer, you can disable autocasting by passing autocast=False to the base Layer constructor.\n",
      "\n",
      "INFO:tensorflow:Done calling model_fn.\n",
      "INFO:tensorflow:Create CheckpointSaverHook.\n",
      "INFO:tensorflow:Graph was finalized.\n",
      "INFO:tensorflow:Running local_init_op.\n",
      "INFO:tensorflow:Done running local_init_op.\n",
      "INFO:tensorflow:Saving checkpoints for 0 into C:\\Users\\hp\\AppData\\Local\\Temp\\tmp3wd0egsd\\model.ckpt.\n",
      "INFO:tensorflow:loss = 0.6931472, step = 0\n",
      "INFO:tensorflow:global_step/sec: 116.98\n",
      "INFO:tensorflow:loss = 0.65030706, step = 100 (0.859 sec)\n",
      "INFO:tensorflow:global_step/sec: 119.452\n",
      "INFO:tensorflow:loss = 0.7114356, step = 200 (0.840 sec)\n",
      "INFO:tensorflow:global_step/sec: 122.723\n",
      "INFO:tensorflow:loss = 0.70673877, step = 300 (0.814 sec)\n",
      "INFO:tensorflow:global_step/sec: 110.155\n",
      "INFO:tensorflow:loss = 0.74269676, step = 400 (0.907 sec)\n",
      "INFO:tensorflow:global_step/sec: 113.499\n",
      "INFO:tensorflow:loss = 0.52733576, step = 500 (0.883 sec)\n",
      "INFO:tensorflow:global_step/sec: 123.349\n",
      "INFO:tensorflow:loss = 0.5318323, step = 600 (0.810 sec)\n",
      "INFO:tensorflow:global_step/sec: 122.342\n",
      "INFO:tensorflow:loss = 0.612092, step = 700 (0.822 sec)\n",
      "INFO:tensorflow:global_step/sec: 117.871\n",
      "INFO:tensorflow:loss = 0.6032956, step = 800 (0.842 sec)\n",
      "INFO:tensorflow:global_step/sec: 112.922\n",
      "INFO:tensorflow:loss = 0.6540977, step = 900 (0.895 sec)\n",
      "INFO:tensorflow:global_step/sec: 117.487\n",
      "INFO:tensorflow:loss = 0.7197721, step = 1000 (0.843 sec)\n",
      "INFO:tensorflow:global_step/sec: 123.034\n",
      "INFO:tensorflow:loss = 0.5408066, step = 1100 (0.818 sec)\n",
      "INFO:tensorflow:global_step/sec: 121.38\n",
      "INFO:tensorflow:loss = 0.6619507, step = 1200 (0.818 sec)\n",
      "INFO:tensorflow:global_step/sec: 123.891\n",
      "INFO:tensorflow:loss = 0.5706324, step = 1300 (0.807 sec)\n",
      "INFO:tensorflow:global_step/sec: 117.801\n",
      "INFO:tensorflow:loss = 0.3966214, step = 1400 (0.849 sec)\n",
      "INFO:tensorflow:global_step/sec: 122.904\n",
      "INFO:tensorflow:loss = 0.7200801, step = 1500 (0.818 sec)\n",
      "INFO:tensorflow:global_step/sec: 125.973\n",
      "INFO:tensorflow:loss = 0.38554, step = 1600 (0.796 sec)\n",
      "INFO:tensorflow:global_step/sec: 120.104\n",
      "INFO:tensorflow:loss = 0.5236944, step = 1700 (0.835 sec)\n",
      "INFO:tensorflow:global_step/sec: 130.351\n",
      "INFO:tensorflow:loss = 0.5816237, step = 1800 (0.758 sec)\n",
      "INFO:tensorflow:global_step/sec: 120.245\n",
      "INFO:tensorflow:loss = 0.34535265, step = 1900 (0.835 sec)\n",
      "INFO:tensorflow:global_step/sec: 124.69\n",
      "INFO:tensorflow:loss = 0.5485674, step = 2000 (0.801 sec)\n",
      "INFO:tensorflow:global_step/sec: 102.765\n",
      "INFO:tensorflow:loss = 0.6684994, step = 2100 (0.973 sec)\n",
      "INFO:tensorflow:global_step/sec: 107.844\n",
      "INFO:tensorflow:loss = 0.48634425, step = 2200 (0.931 sec)\n",
      "INFO:tensorflow:global_step/sec: 126.067\n",
      "INFO:tensorflow:loss = 0.4922154, step = 2300 (0.806 sec)\n",
      "INFO:tensorflow:global_step/sec: 117.917\n",
      "INFO:tensorflow:loss = 0.3559796, step = 2400 (0.830 sec)\n",
      "INFO:tensorflow:global_step/sec: 128.89\n",
      "INFO:tensorflow:loss = 0.48949343, step = 2500 (0.780 sec)\n",
      "INFO:tensorflow:global_step/sec: 121.335\n",
      "INFO:tensorflow:loss = 0.5231144, step = 2600 (0.819 sec)\n",
      "INFO:tensorflow:global_step/sec: 116.842\n",
      "INFO:tensorflow:loss = 0.6990196, step = 2700 (0.856 sec)\n",
      "INFO:tensorflow:global_step/sec: 114.061\n",
      "INFO:tensorflow:loss = 0.54690754, step = 2800 (0.884 sec)\n",
      "INFO:tensorflow:global_step/sec: 120.311\n",
      "INFO:tensorflow:loss = 0.51900244, step = 2900 (0.823 sec)\n",
      "INFO:tensorflow:global_step/sec: 140.366\n",
      "INFO:tensorflow:loss = 0.4393971, step = 3000 (0.714 sec)\n",
      "INFO:tensorflow:global_step/sec: 106.642\n",
      "INFO:tensorflow:loss = 0.38321453, step = 3100 (0.960 sec)\n",
      "INFO:tensorflow:global_step/sec: 114.432\n",
      "INFO:tensorflow:loss = 0.33204448, step = 3200 (0.862 sec)\n",
      "INFO:tensorflow:global_step/sec: 123.895\n",
      "INFO:tensorflow:loss = 0.63576096, step = 3300 (0.804 sec)\n",
      "INFO:tensorflow:global_step/sec: 158.793\n",
      "INFO:tensorflow:loss = 0.6015971, step = 3400 (0.618 sec)\n",
      "INFO:tensorflow:global_step/sec: 151.718\n",
      "INFO:tensorflow:loss = 0.6236722, step = 3500 (0.674 sec)\n",
      "INFO:tensorflow:global_step/sec: 110.001\n",
      "INFO:tensorflow:loss = 0.49545154, step = 3600 (0.904 sec)\n",
      "INFO:tensorflow:global_step/sec: 115.764\n",
      "INFO:tensorflow:loss = 0.5085706, step = 3700 (0.869 sec)\n",
      "INFO:tensorflow:global_step/sec: 118.326\n",
      "INFO:tensorflow:loss = 0.5702816, step = 3800 (0.848 sec)\n",
      "INFO:tensorflow:global_step/sec: 133.055\n",
      "INFO:tensorflow:loss = 0.5115028, step = 3900 (0.744 sec)\n",
      "INFO:tensorflow:global_step/sec: 128.138\n",
      "INFO:tensorflow:loss = 0.55514747, step = 4000 (0.772 sec)\n",
      "INFO:tensorflow:global_step/sec: 119.688\n",
      "INFO:tensorflow:loss = 0.49776253, step = 4100 (0.856 sec)\n",
      "INFO:tensorflow:global_step/sec: 114.432\n",
      "INFO:tensorflow:loss = 0.6055264, step = 4200 (0.855 sec)\n",
      "INFO:tensorflow:global_step/sec: 112.973\n",
      "INFO:tensorflow:loss = 0.55293024, step = 4300 (0.882 sec)\n",
      "INFO:tensorflow:global_step/sec: 164.863\n",
      "INFO:tensorflow:loss = 0.4509862, step = 4400 (0.620 sec)\n",
      "INFO:tensorflow:global_step/sec: 105.14\n",
      "INFO:tensorflow:loss = 0.47219452, step = 4500 (0.946 sec)\n",
      "INFO:tensorflow:global_step/sec: 131.029\n",
      "INFO:tensorflow:loss = 0.42999536, step = 4600 (0.757 sec)\n",
      "INFO:tensorflow:global_step/sec: 183.923\n",
      "INFO:tensorflow:loss = 0.499226, step = 4700 (0.562 sec)\n",
      "INFO:tensorflow:global_step/sec: 126.813\n",
      "INFO:tensorflow:loss = 0.31965318, step = 4800 (0.775 sec)\n",
      "INFO:tensorflow:global_step/sec: 136.227\n",
      "INFO:tensorflow:loss = 0.53794515, step = 4900 (0.732 sec)\n",
      "INFO:tensorflow:global_step/sec: 168.23\n",
      "INFO:tensorflow:loss = 0.63357353, step = 5000 (0.591 sec)\n",
      "INFO:tensorflow:global_step/sec: 144.926\n",
      "INFO:tensorflow:loss = 0.696622, step = 5100 (0.696 sec)\n",
      "INFO:tensorflow:global_step/sec: 152.784\n",
      "INFO:tensorflow:loss = 0.6220511, step = 5200 (0.659 sec)\n",
      "INFO:tensorflow:global_step/sec: 135.089\n",
      "INFO:tensorflow:loss = 0.61940557, step = 5300 (0.731 sec)\n",
      "INFO:tensorflow:global_step/sec: 134.944\n",
      "INFO:tensorflow:loss = 0.3379363, step = 5400 (0.740 sec)\n",
      "INFO:tensorflow:global_step/sec: 155.553\n",
      "INFO:tensorflow:loss = 0.44930243, step = 5500 (0.649 sec)\n",
      "INFO:tensorflow:global_step/sec: 251.303\n",
      "INFO:tensorflow:loss = 0.26800102, step = 5600 (0.397 sec)\n",
      "INFO:tensorflow:global_step/sec: 144.502\n",
      "INFO:tensorflow:loss = 0.75287145, step = 5700 (0.687 sec)\n",
      "INFO:tensorflow:global_step/sec: 176.429\n",
      "INFO:tensorflow:loss = 0.57453233, step = 5800 (0.566 sec)\n",
      "INFO:tensorflow:global_step/sec: 228.137\n",
      "INFO:tensorflow:loss = 0.44658437, step = 5900 (0.438 sec)\n",
      "INFO:tensorflow:global_step/sec: 176.468\n",
      "INFO:tensorflow:loss = 0.49033013, step = 6000 (0.568 sec)\n",
      "INFO:tensorflow:global_step/sec: 191.638\n",
      "INFO:tensorflow:loss = 0.23685122, step = 6100 (0.521 sec)\n",
      "INFO:tensorflow:global_step/sec: 185.845\n",
      "INFO:tensorflow:loss = 0.9031927, step = 6200 (0.538 sec)\n",
      "INFO:tensorflow:global_step/sec: 191.475\n",
      "INFO:tensorflow:loss = 0.61750865, step = 6300 (0.526 sec)\n",
      "INFO:tensorflow:global_step/sec: 152.001\n",
      "INFO:tensorflow:loss = 0.59681004, step = 6400 (0.656 sec)\n",
      "INFO:tensorflow:global_step/sec: 133.871\n",
      "INFO:tensorflow:loss = 0.39007425, step = 6500 (0.745 sec)\n",
      "INFO:tensorflow:global_step/sec: 165.508\n",
      "INFO:tensorflow:loss = 0.5083436, step = 6600 (0.603 sec)\n",
      "INFO:tensorflow:global_step/sec: 161.823\n",
      "INFO:tensorflow:loss = 0.7080228, step = 6700 (0.622 sec)\n",
      "INFO:tensorflow:global_step/sec: 158.972\n",
      "INFO:tensorflow:loss = 0.31770244, step = 6800 (0.625 sec)\n",
      "INFO:tensorflow:global_step/sec: 148.572\n",
      "INFO:tensorflow:loss = 0.6127556, step = 6900 (0.673 sec)\n",
      "INFO:tensorflow:global_step/sec: 150.08\n",
      "INFO:tensorflow:loss = 0.44763273, step = 7000 (0.667 sec)\n",
      "INFO:tensorflow:global_step/sec: 128.455\n",
      "INFO:tensorflow:loss = 0.6424194, step = 7100 (0.780 sec)\n",
      "INFO:tensorflow:global_step/sec: 114.421\n",
      "INFO:tensorflow:loss = 0.73456013, step = 7200 (0.874 sec)\n"
     ]
    },
    {
     "name": "stdout",
     "output_type": "stream",
     "text": [
      "INFO:tensorflow:global_step/sec: 117.24\n",
      "INFO:tensorflow:loss = 0.662324, step = 7300 (0.861 sec)\n",
      "INFO:tensorflow:global_step/sec: 109.675\n",
      "INFO:tensorflow:loss = 0.4941237, step = 7400 (0.910 sec)\n",
      "INFO:tensorflow:global_step/sec: 140.971\n",
      "INFO:tensorflow:loss = 0.59433293, step = 7500 (0.707 sec)\n",
      "INFO:tensorflow:global_step/sec: 138.066\n",
      "INFO:tensorflow:loss = 0.5708329, step = 7600 (0.722 sec)\n",
      "INFO:tensorflow:global_step/sec: 192.769\n",
      "INFO:tensorflow:loss = 0.28084275, step = 7700 (0.513 sec)\n",
      "INFO:tensorflow:global_step/sec: 249.982\n",
      "INFO:tensorflow:loss = 0.66999024, step = 7800 (0.403 sec)\n",
      "INFO:tensorflow:global_step/sec: 150.623\n",
      "INFO:tensorflow:loss = 0.53497666, step = 7900 (0.662 sec)\n",
      "INFO:tensorflow:global_step/sec: 126.92\n",
      "INFO:tensorflow:loss = 0.4196803, step = 8000 (0.826 sec)\n",
      "INFO:tensorflow:global_step/sec: 105.852\n",
      "INFO:tensorflow:loss = 0.38426423, step = 8100 (0.928 sec)\n",
      "INFO:tensorflow:global_step/sec: 178.651\n",
      "INFO:tensorflow:loss = 0.20896216, step = 8200 (0.537 sec)\n",
      "INFO:tensorflow:global_step/sec: 198.564\n",
      "INFO:tensorflow:loss = 0.4338909, step = 8300 (0.505 sec)\n",
      "INFO:tensorflow:global_step/sec: 215.07\n",
      "INFO:tensorflow:loss = 0.51769227, step = 8400 (0.469 sec)\n",
      "INFO:tensorflow:global_step/sec: 130.943\n",
      "INFO:tensorflow:loss = 0.4880402, step = 8500 (0.762 sec)\n",
      "INFO:tensorflow:global_step/sec: 138.064\n",
      "INFO:tensorflow:loss = 0.5237479, step = 8600 (0.724 sec)\n",
      "INFO:tensorflow:global_step/sec: 160.578\n",
      "INFO:tensorflow:loss = 0.52791643, step = 8700 (0.620 sec)\n",
      "INFO:tensorflow:global_step/sec: 190.658\n",
      "INFO:tensorflow:loss = 0.5161375, step = 8800 (0.526 sec)\n",
      "INFO:tensorflow:global_step/sec: 199.674\n",
      "INFO:tensorflow:loss = 0.704604, step = 8900 (0.500 sec)\n",
      "INFO:tensorflow:global_step/sec: 211.757\n",
      "INFO:tensorflow:loss = 0.50916195, step = 9000 (0.483 sec)\n",
      "INFO:tensorflow:global_step/sec: 192.732\n",
      "INFO:tensorflow:loss = 0.6009003, step = 9100 (0.512 sec)\n",
      "INFO:tensorflow:global_step/sec: 196.369\n",
      "INFO:tensorflow:loss = 0.7213089, step = 9200 (0.506 sec)\n",
      "INFO:tensorflow:global_step/sec: 183.286\n",
      "INFO:tensorflow:loss = 0.53615445, step = 9300 (0.547 sec)\n",
      "INFO:tensorflow:global_step/sec: 154.904\n",
      "INFO:tensorflow:loss = 0.46676502, step = 9400 (0.644 sec)\n",
      "INFO:tensorflow:global_step/sec: 129.29\n",
      "INFO:tensorflow:loss = 0.7228734, step = 9500 (0.779 sec)\n",
      "INFO:tensorflow:global_step/sec: 134.893\n",
      "INFO:tensorflow:loss = 0.55263525, step = 9600 (0.736 sec)\n",
      "INFO:tensorflow:global_step/sec: 152.257\n",
      "INFO:tensorflow:loss = 0.43150824, step = 9700 (0.672 sec)\n",
      "INFO:tensorflow:global_step/sec: 117.741\n",
      "INFO:tensorflow:loss = 0.5324233, step = 9800 (0.835 sec)\n",
      "INFO:tensorflow:global_step/sec: 116.629\n",
      "INFO:tensorflow:loss = 0.35024127, step = 9900 (0.863 sec)\n",
      "INFO:tensorflow:Saving checkpoints for 10000 into C:\\Users\\hp\\AppData\\Local\\Temp\\tmp3wd0egsd\\model.ckpt.\n",
      "INFO:tensorflow:Loss for final step: 0.54525715.\n"
     ]
    },
    {
     "data": {
      "text/plain": [
       "<tensorflow_estimator.python.estimator.canned.linear.LinearClassifierV2 at 0x2a7f8cb9248>"
      ]
     },
     "execution_count": 44,
     "metadata": {},
     "output_type": "execute_result"
    }
   ],
   "source": [
    "model.train(input_fn=input_func,steps=10000)"
   ]
  },
  {
   "cell_type": "code",
   "execution_count": 45,
   "metadata": {},
   "outputs": [],
   "source": [
    "# make predictions \n",
    "predict_input_func = tf.compat.v1.estimator.inputs.pandas_input_fn(\n",
    "      x=X_test,\n",
    "      batch_size=100,\n",
    "      num_epochs=1,\n",
    "      shuffle=False)"
   ]
  },
  {
   "cell_type": "code",
   "execution_count": 46,
   "metadata": {},
   "outputs": [
    {
     "name": "stdout",
     "output_type": "stream",
     "text": [
      "INFO:tensorflow:Calling model_fn.\n",
      "WARNING:tensorflow:Layer linear/linear_model is casting an input tensor from dtype float64 to the layer's dtype of float32, which is new behavior in TensorFlow 2.  The layer has dtype float32 because it's dtype defaults to floatx.\n",
      "\n",
      "If you intended to run this layer in float32, you can safely ignore this warning. If in doubt, this warning is likely only an issue if you are porting a TensorFlow 1.X model to TensorFlow 2.\n",
      "\n",
      "To change all layers to have dtype float64 by default, call `tf.keras.backend.set_floatx('float64')`. To change just this layer, pass dtype='float64' to the layer constructor. If you are the author of this layer, you can disable autocasting by passing autocast=False to the base Layer constructor.\n",
      "\n",
      "INFO:tensorflow:Done calling model_fn.\n",
      "INFO:tensorflow:Graph was finalized.\n",
      "INFO:tensorflow:Restoring parameters from C:\\Users\\hp\\AppData\\Local\\Temp\\tmp3wd0egsd\\model.ckpt-10000\n",
      "INFO:tensorflow:Running local_init_op.\n",
      "INFO:tensorflow:Done running local_init_op.\n"
     ]
    },
    {
     "data": {
      "text/plain": [
       "{'logits': array([-0.6527128], dtype=float32),\n",
       " 'logistic': array([0.3423785], dtype=float32),\n",
       " 'probabilities': array([0.6576215 , 0.34237847], dtype=float32),\n",
       " 'class_ids': array([0], dtype=int64),\n",
       " 'classes': array([b'0'], dtype=object),\n",
       " 'all_class_ids': array([0, 1]),\n",
       " 'all_classes': array([b'0', b'1'], dtype=object)}"
      ]
     },
     "execution_count": 46,
     "metadata": {},
     "output_type": "execute_result"
    }
   ],
   "source": [
    "predictions = list(model.predict(predict_input_func))\n",
    "predictions[0]"
   ]
  },
  {
   "cell_type": "code",
   "execution_count": 47,
   "metadata": {},
   "outputs": [
    {
     "data": {
      "text/plain": [
       "[0, 1, 0, 0, 0, 1, 1, 0, 0, 0]"
      ]
     },
     "execution_count": 47,
     "metadata": {},
     "output_type": "execute_result"
    }
   ],
   "source": [
    "# get the list of predictions \n",
    "# go through the predictions and get the prediction value from the list \n",
    "preds=[]\n",
    "for pred in predictions:\n",
    "    preds.append(pred['class_ids'][0])\n",
    "    \n",
    "preds[:10]"
   ]
  },
  {
   "cell_type": "code",
   "execution_count": 48,
   "metadata": {},
   "outputs": [
    {
     "name": "stdout",
     "output_type": "stream",
     "text": [
      "              precision    recall  f1-score   support\n",
      "\n",
      "           0       0.87      0.79      0.83       165\n",
      "           1       0.57      0.70      0.63        66\n",
      "\n",
      "    accuracy                           0.76       231\n",
      "   macro avg       0.72      0.74      0.73       231\n",
      "weighted avg       0.78      0.76      0.77       231\n",
      "\n",
      "\n",
      "\n",
      "Accuracy : 0.7619047619047619\n"
     ]
    }
   ],
   "source": [
    "from sklearn.metrics import classification_report,accuracy_score\n",
    "print(classification_report(preds,y_test))\n",
    "print('\\n')\n",
    "print('Accuracy :', accuracy_score(preds,y_test))"
   ]
  },
  {
   "cell_type": "markdown",
   "metadata": {},
   "source": [
    "### DNN Classifier "
   ]
  },
  {
   "cell_type": "code",
   "execution_count": 34,
   "metadata": {},
   "outputs": [],
   "source": [
    "# restore the input function \n",
    "input_function =tf.compat.v1.estimator.inputs.pandas_input_fn(x=X_train,y=y_train ,batch_size=10,num_epochs=None,\n",
    "                                            shuffle=True)"
   ]
  },
  {
   "cell_type": "code",
   "execution_count": 49,
   "metadata": {},
   "outputs": [
    {
     "name": "stdout",
     "output_type": "stream",
     "text": [
      "INFO:tensorflow:Using default config.\n",
      "WARNING:tensorflow:Using temporary folder as model directory: C:\\Users\\hp\\AppData\\Local\\Temp\\tmpqlcuo0yr\n",
      "INFO:tensorflow:Using config: {'_model_dir': 'C:\\\\Users\\\\hp\\\\AppData\\\\Local\\\\Temp\\\\tmpqlcuo0yr', '_tf_random_seed': None, '_save_summary_steps': 100, '_save_checkpoints_steps': None, '_save_checkpoints_secs': 600, '_session_config': allow_soft_placement: true\n",
      "graph_options {\n",
      "  rewrite_options {\n",
      "    meta_optimizer_iterations: ONE\n",
      "  }\n",
      "}\n",
      ", '_keep_checkpoint_max': 5, '_keep_checkpoint_every_n_hours': 10000, '_log_step_count_steps': 100, '_train_distribute': None, '_device_fn': None, '_protocol': None, '_eval_distribute': None, '_experimental_distribute': None, '_experimental_max_worker_delay_secs': None, '_session_creation_timeout_secs': 7200, '_service': None, '_cluster_spec': <tensorflow.python.training.server_lib.ClusterSpec object at 0x000002A7F8DA4808>, '_task_type': 'worker', '_task_id': 0, '_global_id_in_cluster': 0, '_master': '', '_evaluation_master': '', '_is_chief': True, '_num_ps_replicas': 0, '_num_worker_replicas': 1}\n"
     ]
    }
   ],
   "source": [
    "# create the model \n",
    "estimator =  tf.compat.v1.estimator.DNNClassifier(hidden_units= [20,20,16],feature_columns=feat_cols,n_classes=2)"
   ]
  },
  {
   "cell_type": "code",
   "execution_count": 50,
   "metadata": {},
   "outputs": [
    {
     "name": "stdout",
     "output_type": "stream",
     "text": [
      "INFO:tensorflow:Calling model_fn.\n",
      "WARNING:tensorflow:Layer dnn is casting an input tensor from dtype float64 to the layer's dtype of float32, which is new behavior in TensorFlow 2.  The layer has dtype float32 because it's dtype defaults to floatx.\n",
      "\n",
      "If you intended to run this layer in float32, you can safely ignore this warning. If in doubt, this warning is likely only an issue if you are porting a TensorFlow 1.X model to TensorFlow 2.\n",
      "\n",
      "To change all layers to have dtype float64 by default, call `tf.keras.backend.set_floatx('float64')`. To change just this layer, pass dtype='float64' to the layer constructor. If you are the author of this layer, you can disable autocasting by passing autocast=False to the base Layer constructor.\n",
      "\n",
      "INFO:tensorflow:Done calling model_fn.\n",
      "INFO:tensorflow:Create CheckpointSaverHook.\n",
      "INFO:tensorflow:Graph was finalized.\n",
      "INFO:tensorflow:Running local_init_op.\n",
      "INFO:tensorflow:Done running local_init_op.\n",
      "INFO:tensorflow:Saving checkpoints for 0 into C:\\Users\\hp\\AppData\\Local\\Temp\\tmpqlcuo0yr\\model.ckpt.\n",
      "INFO:tensorflow:loss = 6.928531, step = 0\n",
      "INFO:tensorflow:global_step/sec: 92.1929\n",
      "INFO:tensorflow:loss = 5.9709773, step = 100 (1.100 sec)\n",
      "INFO:tensorflow:global_step/sec: 141.385\n",
      "INFO:tensorflow:loss = 2.9564908, step = 200 (0.696 sec)\n",
      "INFO:tensorflow:global_step/sec: 120.159\n",
      "INFO:tensorflow:loss = 4.0950227, step = 300 (0.831 sec)\n",
      "INFO:tensorflow:global_step/sec: 146.382\n",
      "INFO:tensorflow:loss = 3.1191392, step = 400 (0.685 sec)\n",
      "INFO:tensorflow:global_step/sec: 115.798\n",
      "INFO:tensorflow:loss = 4.8320045, step = 500 (0.862 sec)\n",
      "INFO:tensorflow:global_step/sec: 115.691\n",
      "INFO:tensorflow:loss = 3.3750396, step = 600 (0.867 sec)\n",
      "INFO:tensorflow:global_step/sec: 181.865\n",
      "INFO:tensorflow:loss = 6.9517384, step = 700 (0.545 sec)\n",
      "INFO:tensorflow:global_step/sec: 196.475\n",
      "INFO:tensorflow:loss = 1.7366731, step = 800 (0.514 sec)\n",
      "INFO:tensorflow:global_step/sec: 229.13\n",
      "INFO:tensorflow:loss = 4.7537146, step = 900 (0.439 sec)\n",
      "INFO:tensorflow:global_step/sec: 206.898\n",
      "INFO:tensorflow:loss = 3.0668206, step = 1000 (0.475 sec)\n",
      "INFO:tensorflow:global_step/sec: 221.578\n",
      "INFO:tensorflow:loss = 4.255695, step = 1100 (0.455 sec)\n",
      "INFO:tensorflow:global_step/sec: 202.472\n",
      "INFO:tensorflow:loss = 7.4318895, step = 1200 (0.490 sec)\n",
      "INFO:tensorflow:global_step/sec: 227.407\n",
      "INFO:tensorflow:loss = 4.220106, step = 1300 (0.445 sec)\n",
      "INFO:tensorflow:global_step/sec: 233.088\n",
      "INFO:tensorflow:loss = 1.6730708, step = 1400 (0.433 sec)\n",
      "INFO:tensorflow:global_step/sec: 236.696\n",
      "INFO:tensorflow:loss = 5.2807574, step = 1500 (0.414 sec)\n",
      "INFO:tensorflow:global_step/sec: 222.9\n",
      "INFO:tensorflow:loss = 9.420513, step = 1600 (0.449 sec)\n",
      "INFO:tensorflow:global_step/sec: 210.372\n",
      "INFO:tensorflow:loss = 4.1303887, step = 1700 (0.476 sec)\n",
      "INFO:tensorflow:global_step/sec: 199.515\n",
      "INFO:tensorflow:loss = 1.4305977, step = 1800 (0.500 sec)\n",
      "INFO:tensorflow:global_step/sec: 236.112\n",
      "INFO:tensorflow:loss = 3.6792362, step = 1900 (0.425 sec)\n",
      "INFO:tensorflow:global_step/sec: 208.378\n",
      "INFO:tensorflow:loss = 7.8748045, step = 2000 (0.486 sec)\n",
      "INFO:tensorflow:global_step/sec: 216.033\n",
      "INFO:tensorflow:loss = 1.6152513, step = 2100 (0.455 sec)\n",
      "INFO:tensorflow:global_step/sec: 216.313\n",
      "INFO:tensorflow:loss = 2.7004504, step = 2200 (0.462 sec)\n",
      "INFO:tensorflow:global_step/sec: 230.776\n",
      "INFO:tensorflow:loss = 2.0414267, step = 2300 (0.440 sec)\n",
      "INFO:tensorflow:global_step/sec: 209.414\n",
      "INFO:tensorflow:loss = 3.995294, step = 2400 (0.476 sec)\n",
      "INFO:tensorflow:global_step/sec: 179.446\n",
      "INFO:tensorflow:loss = 4.6553497, step = 2500 (0.553 sec)\n",
      "INFO:tensorflow:global_step/sec: 190.236\n",
      "INFO:tensorflow:loss = 2.3359094, step = 2600 (0.525 sec)\n",
      "INFO:tensorflow:global_step/sec: 167.188\n",
      "INFO:tensorflow:loss = 6.7954707, step = 2700 (0.598 sec)\n",
      "INFO:tensorflow:global_step/sec: 163.809\n",
      "INFO:tensorflow:loss = 2.974778, step = 2800 (0.611 sec)\n",
      "INFO:tensorflow:global_step/sec: 141.547\n",
      "INFO:tensorflow:loss = 6.220925, step = 2900 (0.709 sec)\n",
      "INFO:tensorflow:global_step/sec: 134.963\n",
      "INFO:tensorflow:loss = 6.7412243, step = 3000 (0.741 sec)\n",
      "INFO:tensorflow:global_step/sec: 167.55\n",
      "INFO:tensorflow:loss = 2.8832603, step = 3100 (0.595 sec)\n",
      "INFO:tensorflow:global_step/sec: 206.126\n",
      "INFO:tensorflow:loss = 1.2932436, step = 3200 (0.487 sec)\n",
      "INFO:tensorflow:global_step/sec: 187.83\n",
      "INFO:tensorflow:loss = 4.2824655, step = 3300 (0.529 sec)\n",
      "INFO:tensorflow:global_step/sec: 205.313\n",
      "INFO:tensorflow:loss = 2.1876822, step = 3400 (0.492 sec)\n",
      "INFO:tensorflow:global_step/sec: 200.987\n",
      "INFO:tensorflow:loss = 3.4326954, step = 3500 (0.494 sec)\n",
      "INFO:tensorflow:global_step/sec: 192.338\n",
      "INFO:tensorflow:loss = 5.4633746, step = 3600 (0.520 sec)\n",
      "INFO:tensorflow:global_step/sec: 186.317\n",
      "INFO:tensorflow:loss = 6.1499143, step = 3700 (0.536 sec)\n",
      "INFO:tensorflow:global_step/sec: 171.977\n",
      "INFO:tensorflow:loss = 4.4780083, step = 3800 (0.581 sec)\n",
      "INFO:tensorflow:global_step/sec: 173.533\n",
      "INFO:tensorflow:loss = 6.1796947, step = 3900 (0.584 sec)\n",
      "INFO:tensorflow:global_step/sec: 162.152\n",
      "INFO:tensorflow:loss = 4.4748654, step = 4000 (0.614 sec)\n",
      "INFO:tensorflow:global_step/sec: 179.203\n",
      "INFO:tensorflow:loss = 2.5679693, step = 4100 (0.558 sec)\n",
      "INFO:tensorflow:global_step/sec: 195.194\n",
      "INFO:tensorflow:loss = 4.528529, step = 4200 (0.511 sec)\n",
      "INFO:tensorflow:global_step/sec: 163.775\n",
      "INFO:tensorflow:loss = 1.9844186, step = 4300 (0.606 sec)\n",
      "INFO:tensorflow:global_step/sec: 190.694\n",
      "INFO:tensorflow:loss = 2.6666963, step = 4400 (0.525 sec)\n",
      "INFO:tensorflow:global_step/sec: 204.979\n",
      "INFO:tensorflow:loss = 5.2999105, step = 4500 (0.490 sec)\n",
      "INFO:tensorflow:global_step/sec: 234.885\n",
      "INFO:tensorflow:loss = 6.915389, step = 4600 (0.422 sec)\n",
      "INFO:tensorflow:global_step/sec: 218.392\n",
      "INFO:tensorflow:loss = 3.145642, step = 4700 (0.462 sec)\n",
      "INFO:tensorflow:global_step/sec: 185.069\n",
      "INFO:tensorflow:loss = 8.297638, step = 4800 (0.536 sec)\n",
      "INFO:tensorflow:global_step/sec: 186.984\n",
      "INFO:tensorflow:loss = 4.3459682, step = 4900 (0.542 sec)\n",
      "INFO:tensorflow:global_step/sec: 179.44\n",
      "INFO:tensorflow:loss = 4.60965, step = 5000 (0.556 sec)\n",
      "INFO:tensorflow:global_step/sec: 144.851\n",
      "INFO:tensorflow:loss = 3.517157, step = 5100 (0.685 sec)\n",
      "INFO:tensorflow:global_step/sec: 175.887\n",
      "INFO:tensorflow:loss = 3.3052092, step = 5200 (0.568 sec)\n",
      "INFO:tensorflow:global_step/sec: 225.354\n",
      "INFO:tensorflow:loss = 1.3444242, step = 5300 (0.444 sec)\n",
      "INFO:tensorflow:global_step/sec: 239.16\n",
      "INFO:tensorflow:loss = 5.0548487, step = 5400 (0.419 sec)\n",
      "INFO:tensorflow:global_step/sec: 237.418\n",
      "INFO:tensorflow:loss = 1.7079909, step = 5500 (0.419 sec)\n",
      "INFO:tensorflow:global_step/sec: 249.17\n",
      "INFO:tensorflow:loss = 4.4776387, step = 5600 (0.402 sec)\n",
      "INFO:tensorflow:global_step/sec: 236.744\n",
      "INFO:tensorflow:loss = 3.376986, step = 5700 (0.422 sec)\n",
      "INFO:tensorflow:global_step/sec: 231.734\n",
      "INFO:tensorflow:loss = 4.5214605, step = 5800 (0.433 sec)\n",
      "INFO:tensorflow:global_step/sec: 175.331\n",
      "INFO:tensorflow:loss = 2.4837716, step = 5900 (0.572 sec)\n",
      "INFO:tensorflow:global_step/sec: 144.219\n",
      "INFO:tensorflow:loss = 1.042198, step = 6000 (0.692 sec)\n",
      "INFO:tensorflow:global_step/sec: 153.192\n",
      "INFO:tensorflow:loss = 4.358185, step = 6100 (0.659 sec)\n",
      "INFO:tensorflow:global_step/sec: 222.268\n",
      "INFO:tensorflow:loss = 3.8597994, step = 6200 (0.442 sec)\n",
      "INFO:tensorflow:global_step/sec: 237.464\n",
      "INFO:tensorflow:loss = 5.18982, step = 6300 (0.422 sec)\n",
      "WARNING:tensorflow:It seems that global step (tf.train.get_global_step) has not been increased. Current value (could be stable): 6318 vs previous value: 6318. You could increase the global step by passing tf.train.get_global_step() to Optimizer.apply_gradients or Optimizer.minimize.\n",
      "INFO:tensorflow:global_step/sec: 239.762\n",
      "INFO:tensorflow:loss = 3.978373, step = 6400 (0.416 sec)\n",
      "INFO:tensorflow:global_step/sec: 238.868\n",
      "INFO:tensorflow:loss = 3.2902226, step = 6500 (0.420 sec)\n",
      "INFO:tensorflow:global_step/sec: 241.683\n",
      "INFO:tensorflow:loss = 2.4780817, step = 6600 (0.415 sec)\n",
      "INFO:tensorflow:global_step/sec: 210.621\n",
      "INFO:tensorflow:loss = 4.823816, step = 6700 (0.473 sec)\n",
      "INFO:tensorflow:global_step/sec: 219.483\n",
      "INFO:tensorflow:loss = 3.0852714, step = 6800 (0.456 sec)\n",
      "INFO:tensorflow:global_step/sec: 231.327\n",
      "INFO:tensorflow:loss = 4.81698, step = 6900 (0.434 sec)\n",
      "INFO:tensorflow:global_step/sec: 244.999\n"
     ]
    },
    {
     "name": "stdout",
     "output_type": "stream",
     "text": [
      "INFO:tensorflow:loss = 0.77175653, step = 7000 (0.408 sec)\n",
      "INFO:tensorflow:global_step/sec: 233.257\n",
      "INFO:tensorflow:loss = 5.099098, step = 7100 (0.428 sec)\n",
      "INFO:tensorflow:global_step/sec: 250.383\n",
      "INFO:tensorflow:loss = 4.5731516, step = 7200 (0.399 sec)\n",
      "INFO:tensorflow:global_step/sec: 249.288\n",
      "INFO:tensorflow:loss = 1.8993578, step = 7300 (0.404 sec)\n",
      "INFO:tensorflow:global_step/sec: 231.879\n",
      "INFO:tensorflow:loss = 6.5847845, step = 7400 (0.427 sec)\n",
      "INFO:tensorflow:global_step/sec: 237.407\n",
      "INFO:tensorflow:loss = 3.6808355, step = 7500 (0.428 sec)\n",
      "INFO:tensorflow:global_step/sec: 153.609\n",
      "INFO:tensorflow:loss = 3.8522851, step = 7600 (0.646 sec)\n",
      "INFO:tensorflow:global_step/sec: 167.387\n",
      "INFO:tensorflow:loss = 2.6064973, step = 7700 (0.596 sec)\n",
      "INFO:tensorflow:global_step/sec: 208.287\n",
      "INFO:tensorflow:loss = 1.6214743, step = 7800 (0.503 sec)\n",
      "INFO:tensorflow:global_step/sec: 167.102\n",
      "INFO:tensorflow:loss = 2.529646, step = 7900 (0.576 sec)\n",
      "INFO:tensorflow:global_step/sec: 146.526\n",
      "INFO:tensorflow:loss = 2.0300117, step = 8000 (0.689 sec)\n",
      "INFO:tensorflow:global_step/sec: 225.54\n",
      "INFO:tensorflow:loss = 2.4320896, step = 8100 (0.436 sec)\n",
      "INFO:tensorflow:global_step/sec: 168.85\n",
      "INFO:tensorflow:loss = 1.8905436, step = 8200 (0.595 sec)\n",
      "INFO:tensorflow:global_step/sec: 141.698\n",
      "INFO:tensorflow:loss = 5.560272, step = 8300 (0.702 sec)\n",
      "INFO:tensorflow:global_step/sec: 211.631\n",
      "INFO:tensorflow:loss = 2.1804163, step = 8400 (0.474 sec)\n",
      "INFO:tensorflow:global_step/sec: 143.294\n",
      "INFO:tensorflow:loss = 1.6558304, step = 8500 (0.710 sec)\n",
      "INFO:tensorflow:global_step/sec: 131.492\n",
      "INFO:tensorflow:loss = 2.9537487, step = 8600 (0.751 sec)\n",
      "INFO:tensorflow:global_step/sec: 146.598\n",
      "INFO:tensorflow:loss = 4.215685, step = 8700 (0.681 sec)\n",
      "INFO:tensorflow:global_step/sec: 161.984\n",
      "INFO:tensorflow:loss = 3.1070335, step = 8800 (0.618 sec)\n",
      "INFO:tensorflow:global_step/sec: 196.648\n",
      "INFO:tensorflow:loss = 4.482192, step = 8900 (0.507 sec)\n",
      "INFO:tensorflow:global_step/sec: 148.504\n",
      "INFO:tensorflow:loss = 2.7808275, step = 9000 (0.672 sec)\n",
      "INFO:tensorflow:global_step/sec: 153.041\n",
      "INFO:tensorflow:loss = 4.987772, step = 9100 (0.654 sec)\n",
      "INFO:tensorflow:global_step/sec: 134.314\n",
      "INFO:tensorflow:loss = 3.8337257, step = 9200 (0.744 sec)\n",
      "INFO:tensorflow:global_step/sec: 139.768\n",
      "INFO:tensorflow:loss = 2.3987863, step = 9300 (0.716 sec)\n",
      "INFO:tensorflow:global_step/sec: 122.245\n",
      "INFO:tensorflow:loss = 3.5192895, step = 9400 (0.818 sec)\n",
      "INFO:tensorflow:global_step/sec: 123.774\n",
      "INFO:tensorflow:loss = 4.8192444, step = 9500 (0.807 sec)\n",
      "INFO:tensorflow:global_step/sec: 131.445\n",
      "INFO:tensorflow:loss = 1.0736214, step = 9600 (0.765 sec)\n",
      "INFO:tensorflow:global_step/sec: 162.254\n",
      "INFO:tensorflow:loss = 1.1094933, step = 9700 (0.618 sec)\n",
      "INFO:tensorflow:global_step/sec: 126.571\n",
      "INFO:tensorflow:loss = 3.8045917, step = 9800 (0.786 sec)\n",
      "INFO:tensorflow:global_step/sec: 127.326\n",
      "INFO:tensorflow:loss = 1.067814, step = 9900 (0.784 sec)\n",
      "INFO:tensorflow:Saving checkpoints for 10000 into C:\\Users\\hp\\AppData\\Local\\Temp\\tmpqlcuo0yr\\model.ckpt.\n",
      "INFO:tensorflow:Loss for final step: 3.9369144.\n"
     ]
    },
    {
     "data": {
      "text/plain": [
       "<tensorflow_estimator.python.estimator.canned.dnn.DNNClassifier at 0x2a7f8da4848>"
      ]
     },
     "execution_count": 50,
     "metadata": {},
     "output_type": "execute_result"
    }
   ],
   "source": [
    "estimator.train(input_fn=input_function,steps=10000)"
   ]
  },
  {
   "cell_type": "code",
   "execution_count": 51,
   "metadata": {},
   "outputs": [],
   "source": [
    "predict_input_function = tf.compat.v1.estimator.inputs.pandas_input_fn(\n",
    "      x=X_test,\n",
    "      batch_size=10,\n",
    "      num_epochs=1,\n",
    "      shuffle=False)"
   ]
  },
  {
   "cell_type": "code",
   "execution_count": 52,
   "metadata": {},
   "outputs": [
    {
     "name": "stdout",
     "output_type": "stream",
     "text": [
      "INFO:tensorflow:Calling model_fn.\n",
      "WARNING:tensorflow:Layer dnn is casting an input tensor from dtype float64 to the layer's dtype of float32, which is new behavior in TensorFlow 2.  The layer has dtype float32 because it's dtype defaults to floatx.\n",
      "\n",
      "If you intended to run this layer in float32, you can safely ignore this warning. If in doubt, this warning is likely only an issue if you are porting a TensorFlow 1.X model to TensorFlow 2.\n",
      "\n",
      "To change all layers to have dtype float64 by default, call `tf.keras.backend.set_floatx('float64')`. To change just this layer, pass dtype='float64' to the layer constructor. If you are the author of this layer, you can disable autocasting by passing autocast=False to the base Layer constructor.\n",
      "\n",
      "INFO:tensorflow:Done calling model_fn.\n",
      "INFO:tensorflow:Graph was finalized.\n",
      "INFO:tensorflow:Restoring parameters from C:\\Users\\hp\\AppData\\Local\\Temp\\tmpqlcuo0yr\\model.ckpt-10000\n",
      "INFO:tensorflow:Running local_init_op.\n",
      "INFO:tensorflow:Done running local_init_op.\n"
     ]
    }
   ],
   "source": [
    "predictions=list(estimator.predict(predict_input_function))"
   ]
  },
  {
   "cell_type": "code",
   "execution_count": 53,
   "metadata": {},
   "outputs": [
    {
     "data": {
      "text/plain": [
       "{'logits': array([2.0616317], dtype=float32),\n",
       " 'logistic': array([0.88711774], dtype=float32),\n",
       " 'probabilities': array([0.11288233, 0.8871177 ], dtype=float32),\n",
       " 'class_ids': array([1], dtype=int64),\n",
       " 'classes': array([b'1'], dtype=object),\n",
       " 'all_class_ids': array([0, 1]),\n",
       " 'all_classes': array([b'0', b'1'], dtype=object)}"
      ]
     },
     "execution_count": 53,
     "metadata": {},
     "output_type": "execute_result"
    }
   ],
   "source": [
    "#show the first element. we're intresed in the value of class_ids value \n",
    "predictions[0]"
   ]
  },
  {
   "cell_type": "code",
   "execution_count": 54,
   "metadata": {},
   "outputs": [
    {
     "name": "stdout",
     "output_type": "stream",
     "text": [
      "[1, 1, 0, 0, 0, 1, 1, 0, 0, 0, 0, 0, 0, 1, 1, 1, 1, 0, 1, 0]\n"
     ]
    }
   ],
   "source": [
    "results=[]\n",
    "for pred in predictions:\n",
    "    results.append(pred['class_ids'][0])\n",
    "\n",
    "# print the results of prediction \n",
    "print(results[:20])"
   ]
  },
  {
   "cell_type": "code",
   "execution_count": 55,
   "metadata": {},
   "outputs": [
    {
     "name": "stdout",
     "output_type": "stream",
     "text": [
      "              precision    recall  f1-score   support\n",
      "\n",
      "           0       0.78      0.84      0.81       140\n",
      "           1       0.72      0.64      0.67        91\n",
      "\n",
      "    accuracy                           0.76       231\n",
      "   macro avg       0.75      0.74      0.74       231\n",
      "weighted avg       0.75      0.76      0.75       231\n",
      "\n",
      "\n",
      "\n",
      "Accuracy : 0.7575757575757576\n"
     ]
    }
   ],
   "source": [
    "from sklearn.metrics import classification_report,accuracy_score\n",
    "print(classification_report(results,y_test))\n",
    "print('\\n')\n",
    "print('Accuracy :', accuracy_score(results,y_test))"
   ]
  },
  {
   "cell_type": "code",
   "execution_count": null,
   "metadata": {},
   "outputs": [],
   "source": []
  }
 ],
 "metadata": {
  "kernelspec": {
   "display_name": "Python 3",
   "language": "python",
   "name": "python3"
  },
  "language_info": {
   "codemirror_mode": {
    "name": "ipython",
    "version": 3
   },
   "file_extension": ".py",
   "mimetype": "text/x-python",
   "name": "python",
   "nbconvert_exporter": "python",
   "pygments_lexer": "ipython3",
   "version": "3.7.6"
  }
 },
 "nbformat": 4,
 "nbformat_minor": 4
}
